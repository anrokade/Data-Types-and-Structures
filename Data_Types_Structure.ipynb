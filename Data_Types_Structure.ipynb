{
  "nbformat": 4,
  "nbformat_minor": 0,
  "metadata": {
    "colab": {
      "provenance": []
    },
    "kernelspec": {
      "name": "python3",
      "display_name": "Python 3"
    },
    "language_info": {
      "name": "python"
    }
  },
  "cells": [
    {
      "cell_type": "markdown",
      "source": [
        "# Data Types and Structures Questions"
      ],
      "metadata": {
        "id": "cu98ALqm5YVA"
      }
    },
    {
      "cell_type": "markdown",
      "source": [
        "### 1. what are data structure and why are they important?"
      ],
      "metadata": {
        "id": "EHACMnFobG3_"
      }
    },
    {
      "cell_type": "markdown",
      "source": [
        "Data structures are specialized formats for organizing, processing, retrieving, and storing data. In Python, they are foundational tools that help developers manage and work with data efficiently.\n",
        "\n",
        "What Are Data Structures?\n",
        "\n",
        "A data structure is a way of organizing data so that it can be used effectively. Common types in Python include:\n",
        "\n",
        "- Lists (list): Ordered, mutable collections.\n",
        "\n",
        "-  Tuples (tuple): Ordered, immutable collections.\n",
        "\n",
        "- Dictionaries (dict): Key-value pairs, unordered (but ordered as of Python 3.7+).\n",
        "\n",
        "- Sets (set): Unordered collections of unique items.\n",
        "\n",
        "There are also more complex data structures like:\n",
        "\n",
        "- Stacks\n",
        "\n",
        "- Queues\n",
        "\n",
        "- Linked Lists\n",
        "\n",
        "- Trees\n",
        "\n",
        "- Graphs\n",
        "\n",
        "Why Are Data Structures Important in Python?\n",
        "\n",
        "- Efficient Data Management:\n",
        "\n",
        "        Helps store and access data efficiently.\n",
        "\n",
        "        Example: Searching in a dictionary (O(1)) is faster than in a list (O(n)).\n",
        "\n",
        "- Code Simplicity and Readability:\n",
        "\n",
        "        Built-in data structures make code cleaner and easier to understand.\n",
        "\n",
        "        Example: A dictionary is a clear way to map names to phone numbers.\n",
        "\n",
        "- Optimal Use of Resources:\n",
        "\n",
        "        Good data structures use less memory and CPU time.\n",
        "\n",
        "        Example: Using a set to remove duplicates is more efficient than checking manually.\n",
        "\n",
        "- Foundation for Algorithms:\n",
        "\n",
        "        Many algorithms (like searching, sorting, and graph traversal) rely on specific data structures.\n",
        "\n",
        "- Built-in Support:\n",
        "\n",
        "        Python provides rich libraries and methods for manipulating data structures (e.g., .append(), .pop(), .get())."
      ],
      "metadata": {
        "id": "sCAF2PCnbpIl"
      }
    },
    {
      "cell_type": "markdown",
      "source": [
        "### 2. Explain the difference between mutable & immutable data types with examples"
      ],
      "metadata": {
        "id": "hBg197wfccm0"
      }
    },
    {
      "cell_type": "markdown",
      "source": [
        "- Mutable - Can be changed after creation. Modifying it doesn't change its ID\n",
        "\n",
        "Examples-\tlist, dict, set, bytearray"
      ],
      "metadata": {
        "id": "QHlb3KFPdCk7"
      }
    },
    {
      "cell_type": "code",
      "source": [
        "# Create a list (which is mutable)\n",
        "fruits = [\"apple\", \"banana\", \"cherry\"]\n",
        "\n",
        "# Print the original list\n",
        "print(\"Original list:\", fruits)\n",
        "\n",
        "# Modify the list (add a new item)\n",
        "fruits.append(\"orange\")\n",
        "\n",
        "# Print the modified list\n",
        "print(\"Modified list:\", fruits)\n",
        "\n"
      ],
      "metadata": {
        "colab": {
          "base_uri": "https://localhost:8080/"
        },
        "id": "-Kncxy-6dbNE",
        "outputId": "e0877bf3-a0db-4e87-9746-61cbd7813bd4"
      },
      "execution_count": null,
      "outputs": [
        {
          "output_type": "stream",
          "name": "stdout",
          "text": [
            "Original list: ['apple', 'banana', 'cherry']\n",
            "Modified list: ['apple', 'banana', 'cherry', 'orange']\n"
          ]
        }
      ]
    },
    {
      "cell_type": "markdown",
      "source": [
        "- Immutable - Cannot be changed after creation. Any modification creates a new object\n",
        "\n",
        "Examples- int, float, str, tuple, bool, frozenset\n",
        "\n"
      ],
      "metadata": {
        "id": "_X0xMR-DeC44"
      }
    },
    {
      "cell_type": "code",
      "source": [
        "# Create a string (which is immutable)\n",
        "greeting = \"Hello\"\n",
        "\n",
        "# Try to change the string by adding more text\n",
        "new_greeting = greeting + \" World\"\n",
        "\n",
        "# Print both strings\n",
        "print(\"Original string:\", greeting) # The original string greeting did not change.\n",
        "print(\"New string:\", new_greeting)\n"
      ],
      "metadata": {
        "colab": {
          "base_uri": "https://localhost:8080/"
        },
        "id": "MPTZc-w7erHc",
        "outputId": "82999140-8d8a-437d-a235-7e82a839a5f1"
      },
      "execution_count": null,
      "outputs": [
        {
          "output_type": "stream",
          "name": "stdout",
          "text": [
            "Original string: Hello\n",
            "New string: Hello World\n"
          ]
        }
      ]
    },
    {
      "cell_type": "markdown",
      "source": [
        "### 3. What are the main differences between list & tuple in python ?"
      ],
      "metadata": {
        "id": "SjdVTumOf43f"
      }
    },
    {
      "cell_type": "markdown",
      "source": [
        "| Feature                | `list`                            | `tuple`                                |\n",
        "| ---------------------- | --------------------------------- | -------------------------------------- |\n",
        "| **Mutability**         |  Mutable (can be changed)        |  Immutable (cannot be changed)        |\n",
        "| **Syntax**             | Square brackets: `[1, 2, 3]`      | Parentheses: `(1, 2, 3)`               |\n",
        "| **Performance**        | Slower than tuple (more overhead) | Faster (because it's fixed)            |\n",
        "| **Methods**            | Many methods (e.g., `append()`)   | Few methods (mostly for reading)       |\n",
        "| **Use Case**           | When data may change              | When data should stay constant         |\n",
        "| **Can be a dict key?** |  No                              |  Yes (if it only contains immutables) |\n"
      ],
      "metadata": {
        "id": "xQyNKM-ogL6K"
      }
    },
    {
      "cell_type": "markdown",
      "source": [
        "### 4. Describe how dictionaries store data"
      ],
      "metadata": {
        "id": "AkhYAsw4gL3D"
      }
    },
    {
      "cell_type": "markdown",
      "source": [
        "Dictionaries in Python store data as key-value pairs, using a structure called a hash table under the hood.\n",
        "\n",
        "- Example dictionary\n",
        "\n",
        "person = {\n",
        "\n",
        "    \"name\": \"Alice\",\n",
        "\n",
        "    \"age\": 30,\n",
        "\n",
        "    \"city\": \"New York\"\n",
        "}\n",
        "\n",
        "Here’s how this works:\n",
        "\n",
        "    Keys are unique identifiers (like \"name\", \"age\", \"city\").\n",
        "\n",
        "    Values are the data associated with those keys (like \"Alice\", 30, \"New York\").\n",
        "\n",
        "\n",
        "How It Works Internally (Simplified)\n",
        "\n",
        "    Python uses a hash function to convert each key into an index in an internal array.\n",
        "\n",
        "    This allows for fast lookup, typically in constant time (O(1))."
      ],
      "metadata": {
        "id": "bu9p_RS-gLpz"
      }
    },
    {
      "cell_type": "markdown",
      "source": [
        "### 5. Why might you use a set instead of list in python?"
      ],
      "metadata": {
        "id": "EtSiVXXajDjt"
      }
    },
    {
      "cell_type": "markdown",
      "source": [
        "You might choose a set over a list in Python when you need certain advantages that sets provide.\n",
        "\n",
        "\n",
        "| Reason                        | Explanation                                                      |\n",
        "| ----------------------------- | ---------------------------------------------------------------- |\n",
        "| **1. Unique Elements Only**   | Sets automatically remove duplicates.                            |\n",
        "| **2. Faster Lookup (Search)** | Sets use hash tables, making lookups `O(1)` vs `O(n)` for lists. |\n",
        "| **3. Set Operations**         | You can easily do unions, intersections, and differences.        |\n",
        "| **4. Cleaner Logic**          | No need to manually check for duplicates before adding.          |\n"
      ],
      "metadata": {
        "id": "5cyAJK0EjkS1"
      }
    },
    {
      "cell_type": "markdown",
      "source": [
        "### 6. What is a string in python and how is it different form list"
      ],
      "metadata": {
        "id": "HpLTW6XPkEl8"
      }
    },
    {
      "cell_type": "markdown",
      "source": [
        "In Python, a string is a sequence of characters enclosed in either single quotes (') or double quotes (\"). It is a data type used to represent text-based information.\n",
        "\n",
        "Example of a string:\n",
        "\n",
        "my_string = \"Hello, World!\"\n",
        "\n",
        "On the other hand, a list is a collection of elements that can be of different types (numbers, strings, other lists, etc.). It is enclosed in square brackets ([]), and its elements are ordered, meaning they have a specific position (index) that starts at 0.\n",
        "\n",
        "my_list = [1, 2, \"apple\", 3.14]\n",
        "\n",
        "Key Differences Between String and List:\n",
        "\n",
        "- Type of Data:\n",
        "\n",
        "        String: Only stores a sequence of characters (text).\n",
        "\n",
        "        List: Can store elements of different data types (e.g., integers, strings, floats, etc.).\n",
        "\n",
        "- Mutability:\n",
        "\n",
        "        String: Immutable — Once you create a string, you can't change its content. For example, trying to modify a character in a string will give an error.\n",
        "\n",
        "        List: Mutable — You can modify, add, or remove elements from a list.\n",
        "\n",
        "- Indexing:\n",
        "\n",
        "        Both strings and lists are ordered collections and support indexing. So, you can access individual elements using an index.\n",
        "\n",
        "            String: my_string[0] → 'H'\n",
        "\n",
        "            List: my_list[0] → 1\n",
        "\n",
        "- Operations:\n",
        "\n",
        "        You can perform different operations on strings and lists, but because strings are immutable, operations like \"changing an element\" are not possible without creating a new string.\n",
        "\n",
        "            String operations: Concatenation (+), slicing, and repetition (*).\n",
        "\n",
        "            List operations: Append, extend, pop, and sort.\n"
      ],
      "metadata": {
        "id": "vYQBZ1ftWbt9"
      }
    },
    {
      "cell_type": "markdown",
      "source": [
        "### 7. How do tuples ensure data integrity in python?"
      ],
      "metadata": {
        "id": "XGhUyEPxYTiM"
      }
    },
    {
      "cell_type": "markdown",
      "source": [
        "In Python, a tuple is a collection of ordered elements that is immutable (i.e., its contents cannot be changed once it is created). This immutability plays a crucial role in ensuring data integrity, especially in cases where you want to guarantee that the data cannot be altered accidentally or maliciously during the program's execution.\n",
        "\n",
        "How Tuples Ensure Data Integrity:\n",
        "\n",
        "- Immutability:\n",
        "\n",
        "        Once a tuple is created, its values cannot be modified. This means that you cannot change an element, add new elements, or remove elements from the tuple.\n",
        "\n",
        "        This immutability makes tuples ideal for representing constant data or fixed records that should not be altered, ensuring that the data remains consistent throughout the program.\n",
        "\n",
        "- Prevents Accidental Data Modification:\n",
        "\n",
        "    When working with mutable types like lists, it's easy to accidentally modify data. Tuples prevent this because they can't be modified, ensuring that the data stays the same during the program's execution.\n",
        "\n",
        "    For example, in a multi-threaded environment or in complex code, using tuples can prevent one part of the program from inadvertently changing data that should remain constant.\n",
        "\n",
        "- Use in Hashing:\n",
        "\n",
        "    Since tuples are immutable, they can be used as keys in dictionaries or added to sets. Immutable objects like tuples have a hash value that doesn’t change, which is essential for using them in these data structures.\n",
        "\n",
        "    In contrast, mutable objects like lists cannot be used as dictionary keys because their hash value would change if their contents were modified."
      ],
      "metadata": {
        "id": "rLWi9V5fYU1T"
      }
    },
    {
      "cell_type": "code",
      "source": [
        "my_dict = {}\n",
        "key = (1, 2, 3)  # A tuple can be used as a key\n",
        "my_dict[key] = \"value\"\n",
        "print(my_dict)  # {(1, 2, 3): 'value'}\n"
      ],
      "metadata": {
        "colab": {
          "base_uri": "https://localhost:8080/"
        },
        "id": "F3tREwsmYObs",
        "outputId": "cca894d0-3ea5-4f56-bbfb-64cc6c273093"
      },
      "execution_count": null,
      "outputs": [
        {
          "output_type": "stream",
          "name": "stdout",
          "text": [
            "{(1, 2, 3): 'value'}\n"
          ]
        }
      ]
    },
    {
      "cell_type": "markdown",
      "source": [
        "- Support for Safe Data Sharing:\n",
        "\n",
        "    Since tuples can't be modified, they are perfect for situations where multiple parts of a program need to share data safely. You can be confident that no one will accidentally change the values of a tuple, preserving the integrity of the data.\n",
        "\n",
        "    This is particularly useful in contexts like database records, configuration settings, or function arguments that should remain consistent.\n",
        "\n",
        "- Efficiency:\n",
        "\n",
        "    Tuples can be more efficient in terms of memory and performance compared to lists, particularly for large datasets that do not need to be changed. Because of their immutability, Python can optimize memory usage, and tuples can be faster to access than lists.\n",
        "\n",
        "    This ensures that the data not only remains consistent but is also handled efficiently by the interpreter."
      ],
      "metadata": {
        "id": "3KZfxSAdsCwD"
      }
    },
    {
      "cell_type": "markdown",
      "source": [
        "### 8. what is a hash table, and how does it relate to dictionaries in python?"
      ],
      "metadata": {
        "id": "vZCW_p2JvYCY"
      }
    },
    {
      "cell_type": "markdown",
      "source": [
        "A hash table is a data structure that allows you to store key-value pairs and provides fast access (on average O(1) time complexity) to values based on their keys. It uses a hash function to convert a key into an index in an underlying array, which is used to locate the value quickly.\n",
        "\n",
        "Key Concepts of Hash Table:\n",
        "Key: Unique identifier used to retrieve a value.\n",
        "\n",
        "Value: Data associated with the key.\n",
        "\n",
        "Hash Function: Converts the key into a specific index in an internal array.\n",
        "\n",
        "Collision Handling: When two keys hash to the same index, the hash table needs a way to store both (e.g., using chaining or open addressing).\n",
        "\n",
        "\n",
        "How It Relates to Dictionaries in Python:\n",
        "In Python, the built-in dict (dictionary) type is implemented using a hash table.\n",
        "\n",
        "Example:\n",
        "\n",
        "my_dict = {'apple': 3, 'banana': 5, 'orange': 2}\n",
        "\n",
        "Keys ('apple', 'banana', etc.) are hashed using Python's hash function.\n",
        "\n",
        "The resulting hash values determine where the values (3, 5, 2) are stored internally.\n",
        "\n",
        "- When you access a value like my_dict['apple'], Python:\n",
        "\n",
        "Computes the hash of 'apple'.\n",
        "\n",
        "Uses it to locate the index in the internal hash table.\n",
        "\n",
        "Retrieves the value efficiently.\n",
        "\n",
        "- Benefits of Python Dictionaries (due to hash table use):\n",
        "Fast lookups: my_dict[key] is very fast.\n",
        "\n",
        "Fast insertions and deletions: On average, O(1) time.\n",
        "\n",
        "Dynamic resizing: The internal structure grows as more items are added.\n",
        "\n",
        "Summary:\n",
        "\n",
        "A hash table is the underlying data structure used by Python dictionaries.\n",
        "\n",
        "It ensures fast and efficient storage and retrieval of data using keys.\n",
        "\n",
        "Understanding hash tables helps you grasp how dictionaries work under the hood in Python.\n",
        "\n",
        "Let me know if you want a visual diagram or a real-world analogy to clarify further!"
      ],
      "metadata": {
        "id": "ZUZGbunZxEZN"
      }
    },
    {
      "cell_type": "markdown",
      "source": [
        "### 9. Can lists contain different data types in python?"
      ],
      "metadata": {
        "id": "HKaFtHIrxEV8"
      }
    },
    {
      "cell_type": "markdown",
      "source": [
        "Yes, Python lists can absolutely contain different data types.\n",
        "\n",
        "Python lists are versatile and flexible, allowing you to store a collection of items that can be of various types within the same list. This means a single list can hold integers, strings, floats, booleans, other lists, dictionaries, tuples, and even functions or objects.\n",
        "\n",
        "Here's why and how this works:\n",
        "\n",
        "- Dynamic Typing: Python is a dynamically typed language. You don't need to declare the data type of a variable (or the elements in a list) beforehand. The type is checked during runtime.\n",
        "\n",
        "- Heterogeneous Collections: Lists are designed to be heterogeneous, meaning they can store a mix of different kinds of data.\n",
        "\n",
        "- References: Internally, a Python list stores references to the objects, not necessarily the objects themselves directly in contiguous memory like arrays in some other languages. This allows it to point to objects of different types and sizes."
      ],
      "metadata": {
        "id": "3i-3c4wKxETW"
      }
    },
    {
      "cell_type": "code",
      "source": [
        "# List can contain diff data types\n",
        "\n",
        "my_list = [10, \"hello\", 3.14, True, [1, 2, 3], {\"name\": \"Alice\"}]\n",
        "\n",
        "print(my_list)\n",
        "\n",
        "for item in my_list:\n",
        "    print(f\"Item: {item}, Type: {type(item)}\")\n"
      ],
      "metadata": {
        "colab": {
          "base_uri": "https://localhost:8080/"
        },
        "id": "h1l97vS5G2Fx",
        "outputId": "9bca1dba-bbe3-47b7-ff45-603010f154e4"
      },
      "execution_count": null,
      "outputs": [
        {
          "output_type": "stream",
          "name": "stdout",
          "text": [
            "[10, 'hello', 3.14, True, [1, 2, 3], {'name': 'Alice'}]\n",
            "Item: 10, Type: <class 'int'>\n",
            "Item: hello, Type: <class 'str'>\n",
            "Item: 3.14, Type: <class 'float'>\n",
            "Item: True, Type: <class 'bool'>\n",
            "Item: [1, 2, 3], Type: <class 'list'>\n",
            "Item: {'name': 'Alice'}, Type: <class 'dict'>\n"
          ]
        }
      ]
    },
    {
      "cell_type": "markdown",
      "source": [
        "### 10. Explain why string immutable in python?"
      ],
      "metadata": {
        "id": "YvnuoWSVxEPk"
      }
    },
    {
      "cell_type": "markdown",
      "source": [
        "- Hashing and Dictionary Keys\n",
        "\n",
        "  Strings are often used as keys in dictionaries, which rely on hash values.\n",
        "\n",
        "  If a string were mutable, its hash value could change after it's inserted as a key, making the dictionary unreliable.\n",
        "\n",
        "  Immutability ensures the string's hash is constant.\n",
        "\n",
        "- Thread-Safety\n",
        "\n",
        "  Immutable objects are inherently thread-safe because they can't be changed by another thread.\n",
        "\n",
        "  This helps avoid unexpected side effects in concurrent programs.\n",
        "\n",
        "  Memory Efficiency\n",
        "  Python internally reuses string objects with the same value (string interning).\n",
        "\n",
        "  This is only safe if strings are immutable.  \n",
        "\n",
        "\n",
        "- Predictability and Simplicity\n",
        "\n",
        "  Code is easier to read and debug when objects like strings cannot be modified unexpectedly.\n",
        "\n",
        "  Instead of modifying, Python creates a new string when you perform operations."
      ],
      "metadata": {
        "id": "lnKQyG2QxEM8"
      }
    },
    {
      "cell_type": "markdown",
      "source": [
        "### 11. What advantages do dictionaries offer over list for certain tasks?"
      ],
      "metadata": {
        "id": "VRtQHvPZxEKY"
      }
    },
    {
      "cell_type": "markdown",
      "source": [
        "Here are the key advantages dictionaries offer over lists for specific tasks:\n",
        "\n",
        "1. Fast Lookups (Efficient Data Retrieval):\n",
        "\n",
        "- Dictionaries: Dictionaries are implemented using hash tables. This means that retrieving a value associated with a key is, on average, a very fast operation, typically with a time complexity of O(1) (constant time). This means the time it takes to find an item is largely independent of the size of the dictionary.\n",
        "- Lists: To find an element in a list by its value (if you don't know its index), you typically have to iterate through the list, comparing each element. This is a linear search with an average time complexity of O(n) (linear time), where 'n' is the number of items in the list. For large lists, this can be significantly slower than a dictionary lookup.\n",
        "Use Case Example: If you have a large dataset of user information and you frequently need to look up a user's details by their unique user ID, a dictionary with user IDs as keys would be much more efficient than a list of user objects that you'd have to search through.\n",
        "\n",
        "2. Key-Based Access (Meaningful Indexing):\n",
        "\n",
        "Dictionaries: Dictionaries allow you to access values using meaningful keys (e.g., strings, numbers, tuples). This makes the code more readable and intuitive because the key itself describes the data it points to.\n",
        "Lists: Lists use integer indices (0, 1, 2, ...). While this is fine for ordered sequences, it's less descriptive if you're trying to represent data with specific attributes.\n",
        "Use Case Example: Storing a person's information:\n",
        "Dictionary: person = {\"name\": \"Alice\", \"age\": 30, \"city\": \"New York\"}. Accessing the age is person[\"age\"].\n",
        "List: person = [\"Alice\", 30, \"New York\"]. Accessing the age is person[1]. Here, you need to remember that the age is at index 1, which is less clear.\n",
        "\n",
        "3. Representing Structured Data and Mappings:\n",
        "\n",
        "- Dictionaries: They are ideal for representing structured objects or records where each piece of information has a name (the key). They naturally model \"has-a\" relationships or mappings.\n",
        "- Lists: While you can use lists of lists or lists of tuples to represent structured data, it's often less clear and requires adherence to a strict order of elements.\n",
        "Use Case Example: Configuration settings, JSON-like objects, representing columns and values in a database record. For instance, mapping product codes to their prices.\n",
        "\n",
        "4. Ensuring Unique Keys:\n",
        "\n",
        "- Dictionaries: Keys in a dictionary must be unique. If you try to add a key-value pair with an existing key, the old value associated with that key will be overwritten. This is useful when you need to ensure that each identifier is unique.\n",
        "- Lists: Lists allow duplicate values.\n",
        "\n",
        "5. Flexibility in Key Types:\n",
        "\n",
        "- Dictionaries: Keys can be any immutable data type (strings, numbers, tuples containing only immutable types, etc.).\n",
        "- Lists: Indices are always integers.\n",
        "\n",
        "6. Implementing Counters and Frequency Maps:\n",
        "\n",
        "- Dictionaries: Excellent for counting the occurrences of items in a collection. The item can be the key, and its count can be the value.\n",
        "- Lists: While possible, it's more cumbersome and less efficient to implement frequency counts using just lists.\n",
        "\n",
        "  Use Case Example: Counting word frequencies in a text document."
      ],
      "metadata": {
        "id": "JOnuvrERyEJm"
      }
    },
    {
      "cell_type": "markdown",
      "source": [
        "### 12. Describe a scenario where using a tuple would be preferable over a list"
      ],
      "metadata": {
        "id": "oFSWbhUgyD7t"
      }
    },
    {
      "cell_type": "markdown",
      "source": [
        "Example Scenario: Returning Multiple Values from a Function\n",
        "Suppose you're writing a function that returns the x and y coordinates of a point on a graph:\n",
        "\n",
        "def get_coordinates():\n",
        "\n",
        "    x = 10\n",
        "\n",
        "    y = 20\n",
        "\n",
        "    return (x, y)\n",
        "\n",
        "In this case, a tuple is preferable because:\n",
        "\n",
        "- The coordinates are logically grouped together.\n",
        "\n",
        "- They are not meant to change after being returned.\n",
        "\n",
        "- Tuples have less overhead than lists and can be used as dictionary keys, making them more efficient and semantically appropriate for fixed groupings.\n",
        "\n",
        "\n"
      ],
      "metadata": {
        "id": "WQevqcpUyCcP"
      }
    },
    {
      "cell_type": "markdown",
      "source": [
        "### 13.How do sets handle duplicate values in Python"
      ],
      "metadata": {
        "id": "xldv6Ab4ZR-w"
      }
    },
    {
      "cell_type": "markdown",
      "source": [
        "In Python, sets automatically remove duplicate values."
      ],
      "metadata": {
        "id": "ItikyNE3ZR7G"
      }
    },
    {
      "cell_type": "code",
      "source": [
        "my_set = {1, 2, 2, 3, 4, 4, 5}\n",
        "print(my_set) # Even though 2 and 4 were added multiple times, the set only keeps one copy of each value."
      ],
      "metadata": {
        "colab": {
          "base_uri": "https://localhost:8080/"
        },
        "id": "zskcIL6IZyCH",
        "outputId": "1381bb7d-3cfa-4cd1-c2d3-88b8e8c6ac31"
      },
      "execution_count": null,
      "outputs": [
        {
          "output_type": "stream",
          "name": "stdout",
          "text": [
            "{1, 2, 3, 4, 5}\n"
          ]
        }
      ]
    },
    {
      "cell_type": "markdown",
      "source": [
        "### 14.How does the “in” keyword work differently for lists and dictionaries ?"
      ],
      "metadata": {
        "id": "nY5GFtnNZRvw"
      }
    },
    {
      "cell_type": "markdown",
      "source": [
        "The in keyword is used for membership testing, but it behaves differently for lists and dictionaries in Python:"
      ],
      "metadata": {
        "id": "g6cp2SMqaY1g"
      }
    },
    {
      "cell_type": "code",
      "source": [
        "# For Lists: The in keyword checks whether a value is present in the list.\n",
        "\n",
        "my_list = [1, 2, 3, 4]\n",
        "\n",
        "print(2 in my_list)\n",
        "print(5 in my_list)\n"
      ],
      "metadata": {
        "id": "He1KRk2TvvE2",
        "colab": {
          "base_uri": "https://localhost:8080/"
        },
        "outputId": "ca34fc78-3f63-488c-b068-6afae7924598"
      },
      "execution_count": null,
      "outputs": [
        {
          "output_type": "stream",
          "name": "stdout",
          "text": [
            "True\n",
            "False\n"
          ]
        }
      ]
    },
    {
      "cell_type": "code",
      "source": [
        "# For Dictionaries: The in keyword checks whether a key (not a value) exists in the dictionary.\n",
        "\n",
        "my_dict = {'a': 1, 'b': 2}\n",
        "\n",
        "print('a' in my_dict)\n",
        "print(1 in my_dict)\n",
        "\n"
      ],
      "metadata": {
        "colab": {
          "base_uri": "https://localhost:8080/"
        },
        "id": "5SPlhP1PanZ_",
        "outputId": "48d4c2c9-52b6-475c-de4b-acf9627be859"
      },
      "execution_count": null,
      "outputs": [
        {
          "output_type": "stream",
          "name": "stdout",
          "text": [
            "True\n",
            "False\n"
          ]
        }
      ]
    },
    {
      "cell_type": "markdown",
      "source": [
        "### 15. Can you modify the elements of a tuple? Explain why or why not"
      ],
      "metadata": {
        "id": "KzfKQGmMbbKh"
      }
    },
    {
      "cell_type": "markdown",
      "source": [
        "No, you cannot modify the elements of a tuple in Python.Tuples are immutable, which means once a tuple is created, its elements cannot be changed, added, or removed.\n",
        "\n",
        "Exception: Mutability Inside Tuples\n",
        "If a tuple contains a mutable object like a list, the object inside can still be changed:\n"
      ],
      "metadata": {
        "id": "ObkRk62Hba_R"
      }
    },
    {
      "cell_type": "markdown",
      "source": [
        "### 16. What is a nested dictionary, and give an example of its use case?\n"
      ],
      "metadata": {
        "id": "hKUESifpcdAv"
      }
    },
    {
      "cell_type": "code",
      "source": [
        "A nested dictionary is a dictionary inside another dictionary. It lets you store hierarchical or structured data.\n"
      ],
      "metadata": {
        "id": "Fuj69IumbKtH"
      },
      "execution_count": null,
      "outputs": []
    },
    {
      "cell_type": "code",
      "source": [
        "# Representing Employee Records in an Organization\n",
        "\n",
        "company = {\n",
        "    \"Engineering\": {\n",
        "        \"E001\": {\"name\": \"John\", \"position\": \"Engineer\", \"salary\": 75000},\n",
        "        \"E002\": {\"name\": \"Sara\", \"position\": \"Senior Engineer\", \"salary\": 90000}\n",
        "    },\n",
        "    \"HR\": {\n",
        "        \"H001\": {\"name\": \"Linda\", \"position\": \"HR Manager\", \"salary\": 80000}\n",
        "    }\n",
        "}\n"
      ],
      "metadata": {
        "id": "0j5IJ0c5c7wZ"
      },
      "execution_count": null,
      "outputs": []
    },
    {
      "cell_type": "markdown",
      "source": [
        "### 17.  Describe the time complexity of accessing elements in a dictionary?"
      ],
      "metadata": {
        "id": "j8X62st4dgQe"
      }
    },
    {
      "cell_type": "markdown",
      "source": [
        "O(1) — Constant Time (Average Case)\n",
        "This means it takes the same amount of time, regardless of the dictionary's size.\n",
        "\n",
        "my_dict = {'a': 1, 'b': 2, 'c': 3}\n",
        "\n",
        "print(my_dict['b'])  # Access is O(1)\n",
        "\n",
        "This is possible because dictionaries use hash tables under the hood. The key is hashed, and the hash is used to quickly find the corresponding value.\n",
        "\n",
        "O(n) — Worst Case (Rare)\n",
        "In rare cases, if there are many hash collisions, Python may degrade to a linear search. This is highly unlikely due to Python’s efficient hash function and dynamic resizing of hash tables.\n"
      ],
      "metadata": {
        "id": "4NRnUiwYdgBP"
      }
    },
    {
      "cell_type": "markdown",
      "source": [
        "### 18. In what situations are lists preferred over dictionaries?"
      ],
      "metadata": {
        "id": "Jn2Xd-_7eXaX"
      }
    },
    {
      "cell_type": "markdown",
      "source": [
        "1. Order matters:\n",
        "\n",
        "Lists maintain the insertion order of elements (since Python 3.7+), and you can access items by position (index).\n",
        "\n",
        "2. You only need values, not key-value pairs:\n",
        "\n",
        "If you're just storing a collection of items without needing names or labels, a list is simpler and cleaner.\n",
        "\n",
        "3. You need to do a lot of iteration or slicing:\n",
        "\n",
        "Lists support efficient iteration, slicing, and common operations like sorting\n",
        "\n",
        "4. The data is homogeneous:\n",
        "\n",
        "If you're storing a series of the same type of data (like a list of temperatures or prices), lists are ideal."
      ],
      "metadata": {
        "id": "A_UiYQq8enfu"
      }
    },
    {
      "cell_type": "markdown",
      "source": [
        "### 19. Why are dictionaries considered unordered, and how does that affect data retrieval ?"
      ],
      "metadata": {
        "id": "aODAc4uYfIcN"
      }
    },
    {
      "cell_type": "markdown",
      "source": [
        "- Before Python version 3.7, dictionaries were considered unordered because they did not guarantee the order in which key-value pairs were stored or retrieved. Internally, dictionaries used hash tables that optimized for fast access, not order.\n",
        "\n",
        "- Since Python 3.7+\n",
        "Starting with Python 3.7, dictionaries preserve insertion order by design—this means items are returned in the order they were added.\n",
        "\n",
        "How Being \"Unordered\" Affects Data Retrieval (in earlier versions):\n",
        "- Unpredictable Output Order:\n",
        "\n",
        "d = {'x': 1, 'y': 2, 'z': 3}\n",
        "\n",
        "print(d)  # Could print keys in any order before Python 3.7\n",
        "\n",
        "- No Index Access:\n",
        "\n",
        "Unlike lists, you can’t access dictionary items by position (e.g., d[0] doesn’t work).\n",
        "\n",
        "- How It Affects You Today:\n",
        "\n",
        "In modern Python (3.7+), you can rely on insertion order for things like for loops.\n",
        "\n",
        "But data retrieval is still done by key, not by position."
      ],
      "metadata": {
        "id": "-5j88-UmfIKf"
      }
    },
    {
      "cell_type": "markdown",
      "source": [
        "### 20. Explain the difference between a list and a dictionary in terms of data retrieval."
      ],
      "metadata": {
        "id": "NYwX0szFhATV"
      }
    },
    {
      "cell_type": "markdown",
      "source": [
        "| Feature             | **List**                      | **Dictionary**                    |\n",
        "| ------------------- | ----------------------------- | --------------------------------- |\n",
        "| **Access method**   | By **index** (position)       | By **key**                        |\n",
        "| **Syntax**          | `my_list[2]`                  | `my_dict['key']`                  |\n",
        "| **Time complexity** | O(1) for index access         | O(1) average for key access       |\n",
        "| **Use case**        | When data has a natural order | When data is labeled or key-based |\n",
        "| **Example data**    | `[10, 20, 30]`                | `{'a': 10, 'b': 20, 'c': 30}`     |\n"
      ],
      "metadata": {
        "id": "yaQnpbgzhAHv"
      }
    },
    {
      "cell_type": "markdown",
      "source": [
        "# Practical Questions"
      ],
      "metadata": {
        "id": "azYC61T2h02t"
      }
    },
    {
      "cell_type": "code",
      "source": [
        "# 1. Write a code to create a string with your name and print it\n",
        "\n",
        "str_myname=\"Abhijeet\"\n",
        "print(str_myname)"
      ],
      "metadata": {
        "id": "j0ijkmd_dC0d",
        "colab": {
          "base_uri": "https://localhost:8080/"
        },
        "outputId": "c5af1fcf-396e-4f44-fd17-e7a25cfeda01"
      },
      "execution_count": null,
      "outputs": [
        {
          "output_type": "stream",
          "name": "stdout",
          "text": [
            "Abhijeet\n"
          ]
        }
      ]
    },
    {
      "cell_type": "code",
      "source": [
        "# 2. Write a code to find the length of the string \"Hello World\"\n",
        "\n",
        "my_str=\"Hello World\"\n",
        "print(\"Length of String is :\",len(my_str))\n"
      ],
      "metadata": {
        "colab": {
          "base_uri": "https://localhost:8080/"
        },
        "id": "hutWu_PHsIrv",
        "outputId": "53845b36-ffd3-47c1-99d4-00f22ec1b1f9"
      },
      "execution_count": null,
      "outputs": [
        {
          "output_type": "stream",
          "name": "stdout",
          "text": [
            "Length of String is : 11\n"
          ]
        }
      ]
    },
    {
      "cell_type": "code",
      "source": [
        "# 3. Write a code to slice the first 3 characters from the string \"Python Programming\"\n",
        "\n",
        "text = \"Python Programming\"\n",
        "sliced_text = text[:3]\n",
        "print(sliced_text)"
      ],
      "metadata": {
        "colab": {
          "base_uri": "https://localhost:8080/"
        },
        "id": "m5qiHxA-vdBS",
        "outputId": "403c29ab-dba5-492f-f7e4-8901be32eacc"
      },
      "execution_count": null,
      "outputs": [
        {
          "output_type": "stream",
          "name": "stdout",
          "text": [
            "Pyt\n"
          ]
        }
      ]
    },
    {
      "cell_type": "code",
      "source": [
        "# 4. Write a code to convert the string \"hello\" to uppercase\n",
        "\n",
        "my_str=\"hello\"\n",
        "print(\"Original string :\",my_str)\n",
        "print(\"Upper case string :\",my_str.upper())\n"
      ],
      "metadata": {
        "colab": {
          "base_uri": "https://localhost:8080/"
        },
        "id": "1QniJpLIwmGl",
        "outputId": "813bc823-bba6-4367-f888-65e61fff5fcd"
      },
      "execution_count": null,
      "outputs": [
        {
          "output_type": "stream",
          "name": "stdout",
          "text": [
            "Original string : hello\n",
            "Upper case string : HELLO\n"
          ]
        }
      ]
    },
    {
      "cell_type": "code",
      "source": [
        "# 5.  Write a code to replace the word \"apple\" with \"orange\" in the string \"I like apple\"\n",
        "\n",
        "my_str=\"I like apple\"\n",
        "\n",
        "print(\"Original string :\",my_str)\n",
        "new_str=my_str.replace(\"apple\",\"orange\")\n",
        "print(\"New String:\",new_str)"
      ],
      "metadata": {
        "colab": {
          "base_uri": "https://localhost:8080/"
        },
        "id": "UNt2zVGsxISR",
        "outputId": "f1b3e35b-8a20-4dbe-fff3-7c00f79e4de2"
      },
      "execution_count": null,
      "outputs": [
        {
          "output_type": "stream",
          "name": "stdout",
          "text": [
            "Original string : I like apple\n",
            "New String: I like orange\n"
          ]
        }
      ]
    },
    {
      "cell_type": "code",
      "source": [
        "# 6.  Write a code to create a list with numbers 1 to 5 and print it\n",
        "\n",
        "list1=[1,2,3,4,5]\n",
        "print(\"List elements:\",list1)"
      ],
      "metadata": {
        "colab": {
          "base_uri": "https://localhost:8080/"
        },
        "id": "OmF13Tdax7UF",
        "outputId": "621df781-5c46-4774-d42b-391b79cb170b"
      },
      "execution_count": null,
      "outputs": [
        {
          "output_type": "stream",
          "name": "stdout",
          "text": [
            "List elements: [1, 2, 3, 4, 5]\n"
          ]
        }
      ]
    },
    {
      "cell_type": "code",
      "source": [
        "# 7. Write a code to append the number 10 to the list [1, 2, 3, 4]\n",
        "\n",
        "list1=[1,2,3,4]\n",
        "list1.append(10)\n",
        "print(\"List elements are:\",list1)"
      ],
      "metadata": {
        "colab": {
          "base_uri": "https://localhost:8080/"
        },
        "id": "VsNoxFMsyZTS",
        "outputId": "66626ad5-02f5-4b0b-c41b-86a22206fece"
      },
      "execution_count": null,
      "outputs": [
        {
          "output_type": "stream",
          "name": "stdout",
          "text": [
            "List elements are: [1, 2, 3, 4, 10]\n"
          ]
        }
      ]
    },
    {
      "cell_type": "code",
      "source": [
        "# 8.  Write a code to remove the number 3 from the list [1, 2, 3, 4, 5]\n",
        "\n",
        "list1=[1,2,3,4,5]\n",
        "print(\"Original List elements are:\",list1)\n",
        "list1.remove(3)\n",
        "print(\"New List elements are:\",list1)\n"
      ],
      "metadata": {
        "colab": {
          "base_uri": "https://localhost:8080/"
        },
        "id": "5E0Pc56jy58O",
        "outputId": "b91dc11e-6490-41e2-9a48-54654b83f493"
      },
      "execution_count": null,
      "outputs": [
        {
          "output_type": "stream",
          "name": "stdout",
          "text": [
            "Original List elements are: [1, 2, 3, 4, 5]\n",
            "New List elements are: [1, 2, 4, 5]\n"
          ]
        }
      ]
    },
    {
      "cell_type": "code",
      "source": [
        "# 9. Write a code to access the second element in the list ['a', 'b', 'c', 'd']\n",
        "\n",
        "letters=['a', 'b', 'c', 'd']\n",
        "print(\"Original list elements: \", letters)\n",
        "print(\"\\nSecond element in the list is: \",letters[1])"
      ],
      "metadata": {
        "colab": {
          "base_uri": "https://localhost:8080/"
        },
        "id": "GW-bVEiMzed_",
        "outputId": "f5fead39-7db6-45e6-afdc-f4a69e062fe1"
      },
      "execution_count": null,
      "outputs": [
        {
          "output_type": "stream",
          "name": "stdout",
          "text": [
            "Original list elements:  ['a', 'b', 'c', 'd']\n",
            "\n",
            "Second element in the list is:  b\n"
          ]
        }
      ]
    },
    {
      "cell_type": "code",
      "source": [
        "# 10. Write a code to reverse the list [10, 20, 30, 40, 50]\n",
        "\n",
        "num=[10, 20, 30, 40, 50]\n",
        "print(\"Original list elements: \", num)\n",
        "num.reverse()\n",
        "print(\"Reverse list elements: \", num)"
      ],
      "metadata": {
        "colab": {
          "base_uri": "https://localhost:8080/"
        },
        "id": "8Scgops40RAy",
        "outputId": "99ff1a87-73e8-49b8-d643-ff9f54b7a98f"
      },
      "execution_count": null,
      "outputs": [
        {
          "output_type": "stream",
          "name": "stdout",
          "text": [
            "Original list elements:  [10, 20, 30, 40, 50]\n",
            "Reverse list elements:  [50, 40, 30, 20, 10]\n"
          ]
        }
      ]
    },
    {
      "cell_type": "code",
      "source": [
        "# 11.Write a code to create a tuple with the elements 100, 200, 300 and print it.\n",
        "\n",
        "tup=(100,200,300)\n",
        "print(\"Tuple elements:\", tup)"
      ],
      "metadata": {
        "id": "dQOB7R7T1jTS",
        "colab": {
          "base_uri": "https://localhost:8080/"
        },
        "outputId": "5d4e57e9-ac07-41fd-f762-bd2d4eaf21c1"
      },
      "execution_count": null,
      "outputs": [
        {
          "output_type": "stream",
          "name": "stdout",
          "text": [
            "Tuple elements: (100, 200, 300)\n"
          ]
        },
        {
          "output_type": "execute_result",
          "data": {
            "text/plain": [
              "tuple"
            ]
          },
          "metadata": {},
          "execution_count": 2
        }
      ]
    },
    {
      "cell_type": "code",
      "source": [
        "# 12. Write a code to access the second-to-last element of the tuple ('red', 'green', 'blue', 'yellow').\n",
        "\n",
        "my_tuple = ('red', 'green', 'blue', 'yellow')\n",
        "second_to_last = my_tuple[-2] # In Python, -1 refers to the last element, so -2 refers to the second-to-last element.\n",
        "print(second_to_last)\n"
      ],
      "metadata": {
        "colab": {
          "base_uri": "https://localhost:8080/"
        },
        "id": "DYsTLlsDjn8L",
        "outputId": "0a834f16-a7a8-45c7-a3bd-b6f63d160d84"
      },
      "execution_count": null,
      "outputs": [
        {
          "output_type": "stream",
          "name": "stdout",
          "text": [
            "blue\n"
          ]
        }
      ]
    },
    {
      "cell_type": "code",
      "source": [
        "# 13. Write a code to find the minimum number in the tuple (10, 20, 5, 15).\n",
        "\n",
        "my_tuple= (10, 20, 5, 15)\n",
        "print(\"Minimum number of Tuple:\", min(my_tuple))"
      ],
      "metadata": {
        "colab": {
          "base_uri": "https://localhost:8080/"
        },
        "id": "ss33kIz4kex4",
        "outputId": "ee560969-9a2d-43cd-b92c-da06b9f4b4b9"
      },
      "execution_count": null,
      "outputs": [
        {
          "output_type": "stream",
          "name": "stdout",
          "text": [
            "Minimum number of Tuple: 5\n"
          ]
        }
      ]
    },
    {
      "cell_type": "code",
      "source": [
        "# 14. Write a code to find the index of the element \"cat\" in the tuple ('dog', 'cat', 'rabbit').\n",
        "\n",
        "my_tuple = ('dog', 'cat', 'rabbit')\n",
        "index_of_cat = my_tuple.index('cat')\n",
        "print(\"Index of Cat\",index_of_cat)"
      ],
      "metadata": {
        "colab": {
          "base_uri": "https://localhost:8080/"
        },
        "id": "48LaMyGNlVZb",
        "outputId": "a8a8e5d5-1b11-4102-e87a-3074504a21a3"
      },
      "execution_count": null,
      "outputs": [
        {
          "output_type": "stream",
          "name": "stdout",
          "text": [
            "Index of Cat 1\n"
          ]
        }
      ]
    },
    {
      "cell_type": "code",
      "source": [
        "# 15. Write a code to create a tuple containing three different fruits and check if \"kiwi\" is in it.\n",
        "\n",
        "my_tuple = ('apple', 'mango', 'banana', 'kiwi')\n",
        "if 'kiwi' in my_tuple:\n",
        "  print(\"Yes! Kiwi is present\")\n",
        "else:\n",
        "  print(\"No.kiwi does not exist\")"
      ],
      "metadata": {
        "colab": {
          "base_uri": "https://localhost:8080/"
        },
        "id": "Ep3wQxnrmEXS",
        "outputId": "c711d17f-f492-4352-d1b6-9595f2429830"
      },
      "execution_count": null,
      "outputs": [
        {
          "output_type": "stream",
          "name": "stdout",
          "text": [
            "Yes! Kiwi is present\n"
          ]
        }
      ]
    },
    {
      "cell_type": "code",
      "source": [
        "# 16. Write a code to create a set with the elements 'a', 'b', 'c' and print it.\n",
        "\n",
        "my_set = {'a', 'b', 'c'}\n",
        "print(my_set)\n"
      ],
      "metadata": {
        "colab": {
          "base_uri": "https://localhost:8080/"
        },
        "id": "ZiCA1ARcnmS8",
        "outputId": "560865f4-3d23-4b12-c4cd-d8c987395fb1"
      },
      "execution_count": null,
      "outputs": [
        {
          "output_type": "stream",
          "name": "stdout",
          "text": [
            "{'a', 'c', 'b'}\n"
          ]
        }
      ]
    },
    {
      "cell_type": "code",
      "source": [
        "# 17. Write a code to clear all elements from the set {1, 2, 3, 4, 5}.\n",
        "\n",
        "set1={1, 2, 3, 4, 5}\n",
        "print(\"Set elements:\", set1)\n",
        "set1.clear()\n",
        "print(\"After clear all set elements:\",set1)\n"
      ],
      "metadata": {
        "colab": {
          "base_uri": "https://localhost:8080/"
        },
        "id": "pmY2Zoo9pjgP",
        "outputId": "f24703e7-ade4-4ac2-9670-355d2c552494"
      },
      "execution_count": null,
      "outputs": [
        {
          "output_type": "stream",
          "name": "stdout",
          "text": [
            "Set elements: {1, 2, 3, 4, 5}\n",
            "After clear all set elements: set()\n"
          ]
        }
      ]
    },
    {
      "cell_type": "code",
      "source": [
        "# 18. Write a code to remove the element 4 from the set {1, 2, 3, 4}.\n",
        "\n",
        "set1={1, 2, 3, 4}\n",
        "print(\"Original set elements:\",set1)\n",
        "set1.remove(4)\n",
        "print(\"After removing 4 element:\",set1)"
      ],
      "metadata": {
        "colab": {
          "base_uri": "https://localhost:8080/"
        },
        "id": "Hah_Gcisp_Zv",
        "outputId": "46c209db-d7df-427a-bdd2-7eca28a0f679"
      },
      "execution_count": null,
      "outputs": [
        {
          "output_type": "stream",
          "name": "stdout",
          "text": [
            "Original set elements: {1, 2, 3, 4}\n",
            "After removing 4 element: {1, 2, 3}\n"
          ]
        }
      ]
    },
    {
      "cell_type": "code",
      "source": [
        "# 19. Write a code to find the union of two sets {1, 2, 3} and {3, 4, 5}.\n",
        "\n",
        "set1={1, 2, 3}\n",
        "set2={3,4,5}\n",
        "print(\"\\nset1 elements:\",set1)\n",
        "print(\"\\nset2 elements:\",set2)\n",
        "print(\"\\nunion of set elements:\",set1.union(set2))\n"
      ],
      "metadata": {
        "colab": {
          "base_uri": "https://localhost:8080/"
        },
        "id": "lcegmS3zq-oy",
        "outputId": "a6bebff9-f563-40ea-eb6a-40f4d97787d5"
      },
      "execution_count": null,
      "outputs": [
        {
          "output_type": "stream",
          "name": "stdout",
          "text": [
            "\n",
            "set1 elements: {1, 2, 3}\n",
            "\n",
            "set2 elements: {3, 4, 5}\n",
            "\n",
            "union of set elements: {1, 2, 3, 4, 5}\n"
          ]
        }
      ]
    },
    {
      "cell_type": "code",
      "source": [
        "# 20. Write a code to find the intersection of two sets {1, 2, 3} and {2, 3, 4}.\n",
        "\n",
        "set1={1, 2, 3}\n",
        "set2={2,3,4}\n",
        "print(\"\\nset1 elements:\",set1)\n",
        "print(\"\\nset2 elements:\",set2)\n",
        "print(\"\\nunion of set elements:\",set1.intersection(set2))"
      ],
      "metadata": {
        "colab": {
          "base_uri": "https://localhost:8080/"
        },
        "id": "DKrhu63pro2U",
        "outputId": "946a37ef-4efa-47a5-bf80-1d2c6022115c"
      },
      "execution_count": null,
      "outputs": [
        {
          "output_type": "stream",
          "name": "stdout",
          "text": [
            "\n",
            "set1 elements: {1, 2, 3}\n",
            "\n",
            "set2 elements: {2, 3, 4}\n",
            "\n",
            "union of set elements: {2, 3}\n"
          ]
        }
      ]
    },
    {
      "cell_type": "code",
      "source": [
        "# 21. Write a code to create a dictionary with the keys \"name\", \"age\", and \"city\", and print it.\n",
        "\n",
        "dict1={\"Name\":\"Abhijeet\",\"Age\":35,\"City\":\"Satara\"}\n",
        "dict1"
      ],
      "metadata": {
        "colab": {
          "base_uri": "https://localhost:8080/"
        },
        "id": "x1sonc_Ur94U",
        "outputId": "8659070a-430d-4607-851f-1a06e67944d0"
      },
      "execution_count": null,
      "outputs": [
        {
          "output_type": "execute_result",
          "data": {
            "text/plain": [
              "{'Name': 'Abhijeet', 'Age': 35, 'City': 'Satara'}"
            ]
          },
          "metadata": {},
          "execution_count": 33
        }
      ]
    },
    {
      "cell_type": "code",
      "source": [
        "# 22. Write a code to add a new key-value pair \"country\": \"USA\" to the dictionary {'name': 'John', 'age': 25}.\n",
        "\n",
        "my_dict = {'name': 'John', 'age': 25}\n",
        "print(\"Original Dictionary:\",my_dict)\n",
        "my_dict[\"country\"] = \"USA\"\n",
        "print(\"\\n After adding key-vlue pair: \",my_dict)"
      ],
      "metadata": {
        "colab": {
          "base_uri": "https://localhost:8080/"
        },
        "id": "57oy7zr3sxiC",
        "outputId": "898b004f-b907-4389-d1aa-c9022a75b2f5"
      },
      "execution_count": null,
      "outputs": [
        {
          "output_type": "stream",
          "name": "stdout",
          "text": [
            "Original Dictionary: {'name': 'John', 'age': 25}\n",
            "\n",
            " After adding key-vlue pair:  {'name': 'John', 'age': 25, 'country': 'USA'}\n"
          ]
        }
      ]
    },
    {
      "cell_type": "code",
      "source": [
        "# 23. Write a code to access the value associated with the key \"name\" in the dictionary {'name': 'Alice', 'age': 30}.\n",
        "\n",
        "my_dict = {'name': 'Alice', 'age': 30}\n",
        "print(\"Original Dictionary:\",my_dict)\n",
        "my_dict['name']"
      ],
      "metadata": {
        "colab": {
          "base_uri": "https://localhost:8080/",
          "height": 53
        },
        "id": "D6LEIG8Ztq87",
        "outputId": "18613097-5802-47c8-9932-ff39dfba073e"
      },
      "execution_count": null,
      "outputs": [
        {
          "output_type": "stream",
          "name": "stdout",
          "text": [
            "Original Dictionary: {'name': 'Alice', 'age': 30}\n"
          ]
        },
        {
          "output_type": "execute_result",
          "data": {
            "text/plain": [
              "'Alice'"
            ],
            "application/vnd.google.colaboratory.intrinsic+json": {
              "type": "string"
            }
          },
          "metadata": {},
          "execution_count": 42
        }
      ]
    },
    {
      "cell_type": "code",
      "source": [
        "# 24. Write a code to remove the key \"age\" from the dictionary {'name': 'Bob', 'age': 22, 'city': 'New York'}\n",
        "\n",
        "my_dict = {'name': 'Bob', 'age': 22, 'city': 'New York'}\n",
        "print(\"Original Dictionary:\",my_dict)\n",
        "del my_dict[\"age\"]\n",
        "print(\"\\nAfter removing key age:\",my_dict)"
      ],
      "metadata": {
        "colab": {
          "base_uri": "https://localhost:8080/"
        },
        "id": "4YCl6fclukQ4",
        "outputId": "e742c7a5-1436-4cc1-9a67-a563d8027953"
      },
      "execution_count": null,
      "outputs": [
        {
          "output_type": "stream",
          "name": "stdout",
          "text": [
            "Original Dictionary: {'name': 'Bob', 'age': 22, 'city': 'New York'}\n",
            "\n",
            "After removing key age: {'name': 'Bob', 'city': 'New York'}\n"
          ]
        }
      ]
    },
    {
      "cell_type": "code",
      "source": [
        "# 25. Write a code to check if the key \"city\" exists in the dictionary {'name': 'Alice', 'city': 'Paris'}.\n",
        "\n",
        "my_dict = {'name': 'Alice', 'city': 'Paris'}\n",
        "if \"city\" in my_dict:\n",
        "    print(\"The key 'city' exists in the dictionary.\")\n",
        "else:\n",
        "    print(\"The key 'city' does not exist in the dictionary.\")\n"
      ],
      "metadata": {
        "colab": {
          "base_uri": "https://localhost:8080/"
        },
        "id": "aM-lvxYnwaWy",
        "outputId": "0e8d75d5-2311-43bd-f77c-74f1306fe871"
      },
      "execution_count": null,
      "outputs": [
        {
          "output_type": "stream",
          "name": "stdout",
          "text": [
            "The key 'city' exists in the dictionary.\n"
          ]
        }
      ]
    },
    {
      "cell_type": "code",
      "source": [
        "# 26. Write a code to create a list, a tuple, and a dictionary, and print them all.\n",
        "\n",
        "my_list = [1, 2, 3, 4, 5]\n",
        "my_tuple = ('apple', 'banana', 'cherry')\n",
        "my_dictionary = {'name': 'Charlie', 'age': 35, 'occupation': 'Engineer'}\n",
        "\n",
        "print(\"List:\", my_list)\n",
        "print(\"Tuple:\", my_tuple)\n",
        "print(\"Dictionary:\", my_dictionary)"
      ],
      "metadata": {
        "colab": {
          "base_uri": "https://localhost:8080/"
        },
        "id": "AUgNTAmTxW5-",
        "outputId": "01b4aecd-485e-49a6-d48c-ec6d55225ebb"
      },
      "execution_count": null,
      "outputs": [
        {
          "output_type": "stream",
          "name": "stdout",
          "text": [
            "List: [1, 2, 3, 4, 5]\n",
            "Tuple: ('apple', 'banana', 'cherry')\n",
            "Dictionary: {'name': 'Charlie', 'age': 35, 'occupation': 'Engineer'}\n"
          ]
        }
      ]
    },
    {
      "cell_type": "code",
      "source": [
        "# 27. Write a code to create a list of 5 random numbers between 1 and 100, sort it in ascending order, and print the result.(replaced)\n",
        "\n",
        "import random\n",
        "\n",
        "random_numbers = [random.randint(1, 100) for _ in range(5)]\n",
        "random_numbers.sort()\n",
        "print(\"Sorted list of random numbers:\", random_numbers)"
      ],
      "metadata": {
        "colab": {
          "base_uri": "https://localhost:8080/"
        },
        "id": "AxV-CQ-oz5Nx",
        "outputId": "f1c52108-1edc-4db9-a83b-f47d719e37b9"
      },
      "execution_count": null,
      "outputs": [
        {
          "output_type": "stream",
          "name": "stdout",
          "text": [
            "Sorted list of random numbers: [13, 29, 40, 89, 94]\n"
          ]
        }
      ]
    },
    {
      "cell_type": "code",
      "source": [
        "# 28. Write a code to create a list with strings and print the element at the third index.\n",
        "\n",
        "my_list = [\"apple\", \"banana\", \"cherry\", \"date\", \"mango\"]\n",
        "third_index_element = my_list[3]\n",
        "print(\"Element at the third index:\", third_index_element)"
      ],
      "metadata": {
        "colab": {
          "base_uri": "https://localhost:8080/"
        },
        "id": "IRl7wu_M0y1x",
        "outputId": "cd447dbb-9ed0-4980-ad17-35d9ac3c2047"
      },
      "execution_count": null,
      "outputs": [
        {
          "output_type": "stream",
          "name": "stdout",
          "text": [
            "Element at the third index: date\n"
          ]
        }
      ]
    },
    {
      "cell_type": "code",
      "source": [
        "# 29. Write a code to combine two dictionaries into one and print the result.\n",
        "\n",
        "dict1 = {'a': 1, 'b': 2}\n",
        "dict2 = {'c': 3, 'd': 4}\n",
        "\n",
        "combined_dict = dict1.copy()  # Create a copy of the first dictionary\n",
        "combined_dict.update(dict2)   # Update the copy with the key-value pairs from the second dictionary\n",
        "\n",
        "print(\"Combined dictionary:\", combined_dict)"
      ],
      "metadata": {
        "colab": {
          "base_uri": "https://localhost:8080/"
        },
        "id": "H0RWVViE1c8A",
        "outputId": "f497d17b-fbbd-431f-d2f5-1224a432469a"
      },
      "execution_count": null,
      "outputs": [
        {
          "output_type": "stream",
          "name": "stdout",
          "text": [
            "Combined dictionary: {'a': 1, 'b': 2, 'c': 3, 'd': 4}\n"
          ]
        }
      ]
    },
    {
      "cell_type": "code",
      "source": [
        "# 30. Write a code to convert a list of strings into a set.\n",
        "\n",
        "my_list = [\"apple\", \"banana\", \"cherry\", \"apple\", \"date\"]\n",
        "my_set = set(my_list)\n",
        "print(\"Original list:\", my_list)\n",
        "print(\"Converted set:\", my_set)"
      ],
      "metadata": {
        "colab": {
          "base_uri": "https://localhost:8080/"
        },
        "id": "qGAnCs8n1yVV",
        "outputId": "34b67ae8-9ea9-4ed0-9d7e-d2f501c9df0f"
      },
      "execution_count": null,
      "outputs": [
        {
          "output_type": "stream",
          "name": "stdout",
          "text": [
            "Original list: ['apple', 'banana', 'cherry', 'apple', 'date']\n",
            "Converted set: {'apple', 'cherry', 'date', 'banana'}\n"
          ]
        }
      ]
    },
    {
      "cell_type": "code",
      "source": [],
      "metadata": {
        "id": "rKzFrPSn2Bbk"
      },
      "execution_count": null,
      "outputs": []
    }
  ]
}